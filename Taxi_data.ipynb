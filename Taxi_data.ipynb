{
 "cells": [
  {
   "cell_type": "markdown",
   "id": "e41790ec",
   "metadata": {},
   "source": [
    "# Project: Taxi Data"
   ]
  },
  {
   "cell_type": "markdown",
   "id": "8d3e159b",
   "metadata": {},
   "source": [
    "# Data"
   ]
  },
  {
   "cell_type": "code",
   "execution_count": null,
   "id": "15875716",
   "metadata": {},
   "outputs": [],
   "source": [
    "The data is structured as follows:\n",
    "\n",
    "Column number | Column name | Type | Description\n",
    " ------------ | :---------:       | :---------:           | ------------:\n",
    "0             | `'pickup_weekday'`    | categorical (ordinal) | Day of the week when the journey started (Monday = 0, Sunday = 6).\n",
    "1             | `'pickup_hour'`    | categorical (ordinal) | Hour when the journey started.\n",
    "2             | `'pickup_longitude'`  | numerical             | Longitude where the journey started.\n",
    "3             | `'pickup_latitude'`   | numerical             | Latitude where the journey started.\n",
    "4             | `'dropoff_longitude'` | numerical             | Longitude where the journey ended.\n",
    "5             | `'pickup_latitude'`  | numerical             | Latitude where the journey ended.\n",
    "6             | `'passenger_count'`   | categorical (ordinal) | Number of passengers in the car. This is manually recorded.\n",
    "7             | `'trip_distance'`     | numerical             | Journey distance in miles.\n",
    "8             | `'fare_amount'`       | numerical             | Amount on the meter based on duration and distance.\n",
    "9             | `'tip_amount'`        | numerical             | Tip given on card payments (0.00 if payment made in cash).\n",
    "10            | `'tolls_amount'`      | numerical             | Tolls incurred.\n",
    "11            | `'payment_type'`      | categorical (nominal) | Payment type (1 = credit card, 2 = cash, 3 = no fee, 4 = dispute).\n",
    "\n",
    "\n",
    "You are also given the following coordinates to determine which journeys start JFK airport:\n",
    "\n",
    "Variable      | Value             | Description  \n",
    "------------- | :---------:       | ---------:           \n",
    "`jfk_max_lat`   | `40.66018`          | Maximum pickup latitude for airport journeys \n",
    "`jfk_min_lat`   | `40.62666`          | Minimum pickup latitude for airport journeys \n",
    "`jfk_max_long`  | `-73.76599`         | Maximum pickup longitude for airport journeys \n",
    "`jfk_min_long`  | `-73.80822`         | Minimum pickup longitude for airport journeys\n",
    "\n",
    "\n",
    "New York City is determined approximately by the following coordinates:\n",
    "\n",
    "Variable      | Value             | Description  \n",
    "------------- | :---------:       | ---------:           \n",
    "`nyc_max_lat`   | `40.9176`          | Maximum latitude for New York City\n",
    "`nyc_min_lat`   | `40.5774`          | Minimum latitude for New York City \n",
    "`nyc_max_long`  | `-73.7004`         | Maximum longitude for New York City\n",
    "`nyc_min_long`  | `-74.15`         | Minimum longitude for New York City"
   ]
  },
  {
   "cell_type": "markdown",
   "id": "f832187f",
   "metadata": {},
   "source": [
    "\n",
    "# **1)** Importing and cleaning the data"
   ]
  },
  {
   "cell_type": "code",
   "execution_count": null,
   "id": "c8cb5435",
   "metadata": {},
   "outputs": [],
   "source": [
    "col_dtypes = {'pickup_weekday': 'int16', \n",
    "              'pickup_hour': 'int16', \n",
    "              'pickup_longitude': 'float32', \n",
    "              'pickup_latitude': 'float32', \n",
    "              'dropoff_longitude': 'float32', \n",
    "              'dropoff_latitude': 'float32', \n",
    "              'passenger_count': 'int16', \n",
    "              'trip_distance': 'float32', \n",
    "              'fare_amount': 'float32', \n",
    "              'tip_amount': 'float32', \n",
    "              'tolls_amount': 'float32', \n",
    "              'payment_type': 'int16'}\n",
    "\n",
    "df = pd.read_csv('2016_Yellow_Taxi_prepared.csv', dtype=col_dtypes)"
   ]
  },
  {
   "cell_type": "code",
   "execution_count": null,
   "id": "f071ce26",
   "metadata": {},
   "outputs": [],
   "source": [
    "import pandas as pd\n",
    "col_dtypes = {'pickup_weekday': 'int16', \n",
    "              'pickup_hour': 'int16', \n",
    "              'pickup_longitude': 'float32', \n",
    "              'pickup_latitude': 'float32', \n",
    "              'dropoff_longitude': 'float32', \n",
    "              'dropoff_latitude': 'float32', \n",
    "              'passenger_count': 'int16', \n",
    "              'trip_distance': 'float32', \n",
    "              'fare_amount': 'float32', \n",
    "              'tip_amount': 'float32', \n",
    "              'tolls_amount': 'float32', \n",
    "              'payment_type': 'int16'}\n"
   ]
  },
  {
   "cell_type": "code",
   "execution_count": null,
   "id": "bab364b4",
   "metadata": {},
   "outputs": [],
   "source": [
    "df = pd.read_csv('2016_Yellow_Taxi_prepared.csv', dtype=col_dtypes)\n",
    "df.head()"
   ]
  },
  {
   "cell_type": "code",
   "execution_count": null,
   "id": "503f0e2a",
   "metadata": {},
   "outputs": [],
   "source": [
    "df.dtypes\n",
    "df.index = df.index \n",
    "df.head()"
   ]
  },
  {
   "cell_type": "code",
   "execution_count": null,
   "id": "ae380166",
   "metadata": {},
   "outputs": [],
   "source": [
    "df.describe()"
   ]
  },
  {
   "cell_type": "code",
   "execution_count": null,
   "id": "ed94c149",
   "metadata": {},
   "outputs": [],
   "source": [
    "import numpy as np \n",
    "for i in range(df.shape[0]):\n",
    "    if df.loc[i, 'pickup_latitude'] <40.5774 or  df.loc[i, 'pickup_latitude'] >40.9176 :\n",
    "        df.loc[i,'pickup_latitude'] = np.nan\n",
    "    elif df.loc[i, 'dropoff_latitude']<40.5774 or df.loc[i, 'dropoff_latitude'] >40.9176:\n",
    "        df.loc[i, 'dropoff_latitude'] = np.nan\n",
    "    elif df.loc[i, 'pickup_longitude']>-73.7004 or df.loc[i, 'pickup_longitude']<-74.15:\n",
    "        df.loc[i, 'pickup_longitude'] = np.nan\n",
    "    elif  df.loc[i, 'dropoff_longitude']> -73.7004  or df.loc[i, 'dropoff_longitude']<-74.15:\n",
    "        df.loc[i,'dropoff_longitude'] = np.nan\n",
    "    elif df.loc[i, 'passenger_count'] == 0:\n",
    "        df.loc[i, 'passenger_count']=np.nan\n",
    "    elif df.loc[i,'trip_distance']<=0 :\n",
    "        df.loc[i,'trip_distance']=np.nan\n",
    "    elif df.loc[i, 'tip_amount']<0:\n",
    "        df.loc[i, 'tip_amount'] = np.nan"
   ]
  },
  {
   "cell_type": "markdown",
   "id": "f0a14703",
   "metadata": {},
   "source": [
    "# **2)** Selecting data"
   ]
  },
  {
   "cell_type": "code",
   "execution_count": null,
   "id": "fd5bd689",
   "metadata": {},
   "outputs": [],
   "source": [
    "df = df.dropna(axis = 0,thresh = 12)\n",
    "df.shape"
   ]
  },
  {
   "cell_type": "markdown",
   "id": "96e4fc32",
   "metadata": {},
   "source": [
    "# **3)** Proportion of taxis from the airport"
   ]
  },
  {
   "cell_type": "code",
   "execution_count": null,
   "id": "268ed08c",
   "metadata": {},
   "outputs": [],
   "source": [
    "mask_latitude = (df.loc[:, 'pickup_latitude'] >40.62666) &  (df.loc[:, 'pickup_latitude'] <40.66018)\n",
    "mask_longtitude = (df.loc[:, 'pickup_longitude']<-73.76599) & (df.loc[:, 'pickup_longitude']>-73.80822)\n",
    "mask_jfk = mask_latitude & mask_longtitude\n",
    "df_jfk_start = df.loc[mask_jfk, :]\n",
    "proportion_jfk = (df_jfk_start.shape[0]/(df.shape[0]-df_jfk_start.shape[0]))*100\n",
    "proportion_jfk"
   ]
  },
  {
   "cell_type": "code",
   "execution_count": null,
   "id": "681964f5",
   "metadata": {},
   "outputs": [],
   "source": [
    "df.dtypes"
   ]
  },
  {
   "cell_type": "markdown",
   "id": "b98c118c",
   "metadata": {},
   "source": [
    "# **4)** Visualizing the starting points"
   ]
  },
  {
   "cell_type": "code",
   "execution_count": null,
   "id": "90bbe942",
   "metadata": {},
   "outputs": [],
   "source": [
    "%matplotlib inline\n",
    "import matplotlib.pyplot as plt"
   ]
  },
  {
   "cell_type": "code",
   "execution_count": null,
   "id": "fab38d72",
   "metadata": {},
   "outputs": [],
   "source": [
    "fig, ax = plt.subplots()\n",
    "df.plot(kind = 'scatter', x = 'pickup_longitude', y =  'pickup_latitude', s=0.03, alpha = 0.03,\n",
    "        title = 'Taxi pick-ups in New-York', ax=ax, xlim = [-74.05, -73.75], color = 'darkblue')\n",
    "\n",
    "ann =ax.annotate(s = 'JFK airport', xytext = [-73.87, 40.58], xy=[-73.80,40.63], arrowprops=dict(facecolor='black'))"
   ]
  },
  {
   "cell_type": "markdown",
   "id": "6d372f32",
   "metadata": {},
   "source": [
    "# **5)** Proportion of airport taxis on each day"
   ]
  },
  {
   "cell_type": "code",
   "execution_count": null,
   "id": "134c4623",
   "metadata": {},
   "outputs": [],
   "source": [
    "prop_day_of_the_week = []\n",
    "for i in range(7):\n",
    "    mask = (df.loc[:, 'pickup_weekday']==i) \n",
    "    mask_jfk1 = mask & mask_jfk\n",
    "    df_day_of_week = df.loc[mask_jfk1,:]\n",
    "    df_day = df.loc[mask, :]\n",
    "    res = (df_day_of_week.shape[0]/df_day.shape[0])*100\n",
    "    prop_day_of_the_week.append(res)\n",
    "prop_day_of_the_week"
   ]
  },
  {
   "cell_type": "markdown",
   "id": "d0412ede",
   "metadata": {},
   "source": [
    "# **6)** Proportion of journeys on each day of the week from all locations and those starting from the airport"
   ]
  },
  {
   "cell_type": "code",
   "execution_count": null,
   "id": "f63be534",
   "metadata": {},
   "outputs": [],
   "source": [
    "mask_latitude = (df.loc[:, 'pickup_latitude'] >40.62666) &  (df.loc[:, 'pickup_latitude'] <40.66018)\n",
    "mask_longtitude = (df.loc[:, 'pickup_longitude']<-73.76599) & (df.loc[:, 'pickup_longitude']>-73.80822)\n",
    "mask_jfk = mask_latitude & mask_longtitude"
   ]
  },
  {
   "cell_type": "code",
   "execution_count": null,
   "id": "def27fbb",
   "metadata": {},
   "outputs": [],
   "source": [
    "prop_day_of_the_week =pd.DataFrame(index = ['Mon', 'Tue', 'Wed', 'Thu', 'Fri', 'Sat', 'Sun'], \n",
    "                                   columns = ['prop_all_loc', 'prop_jfk'])"
   ]
  },
  {
   "cell_type": "code",
   "execution_count": null,
   "id": "526d67f1",
   "metadata": {},
   "outputs": [],
   "source": [
    "for i in range(7):\n",
    "    mask = (df.loc[:, 'pickup_weekday']==i) #day of the week\n",
    "    mask_jfk1 = mask & mask_jfk \n",
    "    \n",
    "    df_day_of_week_jfk = df.loc[mask_jfk1,:]\n",
    "    df_day = df.loc[mask, :]\n",
    "    df_jfk = df.loc[mask_jfk, :]\n",
    "    \n",
    "    res1 = (df_day.shape[0]/df.shape[0])\n",
    "    res2 = (df_day_of_week_jfk.shape[0]/df_jfk.shape[0])\n",
    "    prop_day_of_the_week.iloc[i, 0] = res1\n",
    "    prop_day_of_the_week.iloc[i , 1] = res2"
   ]
  },
  {
   "cell_type": "code",
   "execution_count": null,
   "id": "563d11cf",
   "metadata": {},
   "outputs": [],
   "source": [
    "fig, ax = plt.subplots(nrows = 1, ncols = 2, figsize = [15,4], sharey = True)\n",
    "\n",
    "# week = ['Mon', 'Tue', 'Wed', 'Thu', 'Fri', 'Sat', 'Sun']\n",
    "plt.style.use('fivethirtyeight')\n",
    "color = ['blue', 'red', 'orange', 'green', 'grey', 'purple', 'darkblue']\n",
    "prop_day_of_the_week.loc[:, 'prop_all_loc'].plot( kind = 'bar', ax=ax[0], ylim = [0, 0.23], \n",
    "                                                 color = color, \n",
    "                                                 title = 'Proportion of journeys per week day')\n",
    "\n",
    "prop_day_of_the_week.loc[:, 'prop_jfk'].plot(kind = 'bar', ax=ax[1], ylim =[0,0.23], \n",
    "                                             color = color, \n",
    "                                             title ='Proportion of airport journeys per week day')\n",
    "\n",
    "fig.subplots_adjust(wspace=0.01, hspace=0)\n",
    "\n",
    "ax[0].xaxis.set_tick_params(labelrotation=0)\n",
    "ax[1].xaxis.set_tick_params(labelrotation=0)\n",
    "\n",
    "ax[0].set( ylabel = 'Proportion of journeys', xlabel ='Day of the week')\n",
    "ax[1].set(xlabel ='Day of the week');"
   ]
  },
  {
   "cell_type": "markdown",
   "id": "e019ed07",
   "metadata": {},
   "source": [
    "# **7)** Proportion each hour for all journeys and journeys from the airport"
   ]
  },
  {
   "cell_type": "code",
   "execution_count": null,
   "id": "45e98806",
   "metadata": {},
   "outputs": [],
   "source": [
    "#'pickup_hour'\n",
    "mask_latitude = (df.loc[:, 'pickup_latitude'] >40.62666) &  (df.loc[:, 'pickup_latitude'] <40.66018)\n",
    "mask_longtitude = (df.loc[:, 'pickup_longitude']<-73.76599) & (df.loc[:, 'pickup_longitude']>-73.80822)\n",
    "mask_jfk = mask_latitude & mask_longtitude"
   ]
  },
  {
   "cell_type": "code",
   "execution_count": null,
   "id": "f9fa0518",
   "metadata": {},
   "outputs": [],
   "source": [
    "hour =[]\n",
    "for i in range(24):\n",
    "    hour.append(i)\n",
    "df_prop_hour = pd.DataFrame(index = hour, columns = ['prop_hour_all_loc', 'prop_hour_jfk'])\n"
   ]
  },
  {
   "cell_type": "code",
   "execution_count": null,
   "id": "fecc3e9a",
   "metadata": {},
   "outputs": [],
   "source": [
    "for i in range(24):\n",
    "    mask_hour = (df.loc[:, 'pickup_hour']) ==i\n",
    "    df_hour = df.loc[mask_hour, :]\n",
    "    res3 = (df_hour.shape[0]/df.shape[0])*100\n",
    "    df_prop_hour.iloc[i, 0] =res3\n",
    "    \n",
    "    mask_hour_jfk = mask_jfk & mask_hour\n",
    "    df_hour_jfk = df.loc[mask_hour_jfk, :]\n",
    "    df_jfk = df.loc[mask_jfk, :]\n",
    "    res4 = (df_hour_jfk.shape[0]/df_jfk.shape[0])*100\n",
    "    df_prop_hour.iloc[i, 1] =res4"
   ]
  },
  {
   "cell_type": "code",
   "execution_count": null,
   "id": "a6ef982b",
   "metadata": {},
   "outputs": [],
   "source": [
    "fig, ax = plt.subplots(nrows = 1, ncols = 2, figsize =[15,5], sharey = True)\n",
    "\n",
    "df_prop_hour.iloc[:, 0].plot(ax=ax[0], title = 'Proportion each hour for all journeys', ylim = [0, 8])\n",
    "df_prop_hour.iloc[:, 1].plot(ax=ax[1], title = 'Proportion each hour for all airport journeys')\n",
    "\n",
    "fig.subplots_adjust(wspace=0.01, hspace=0)\n",
    "\n",
    "ax[0].set( ylabel = 'Proportion of journeys', xlabel ='Hour')\n",
    "ax[1].set(xlabel ='Hour');"
   ]
  }
 ],
 "metadata": {
  "kernelspec": {
   "display_name": "Python 3 (ipykernel)",
   "language": "python",
   "name": "python3"
  },
  "language_info": {
   "codemirror_mode": {
    "name": "ipython",
    "version": 3
   },
   "file_extension": ".py",
   "mimetype": "text/x-python",
   "name": "python",
   "nbconvert_exporter": "python",
   "pygments_lexer": "ipython3",
   "version": "3.11.2"
  }
 },
 "nbformat": 4,
 "nbformat_minor": 5
}
